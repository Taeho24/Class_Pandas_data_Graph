{
 "cells": [
  {
   "cell_type": "code",
   "execution_count": 212,
   "id": "c55d20b5",
   "metadata": {},
   "outputs": [
    {
     "data": {
      "text/html": [
       "<div>\n",
       "<style scoped>\n",
       "    .dataframe tbody tr th:only-of-type {\n",
       "        vertical-align: middle;\n",
       "    }\n",
       "\n",
       "    .dataframe tbody tr th {\n",
       "        vertical-align: top;\n",
       "    }\n",
       "\n",
       "    .dataframe thead th {\n",
       "        text-align: right;\n",
       "    }\n",
       "</style>\n",
       "<table border=\"1\" class=\"dataframe\">\n",
       "  <thead>\n",
       "    <tr style=\"text-align: right;\">\n",
       "      <th></th>\n",
       "      <th>2022</th>\n",
       "    </tr>\n",
       "  </thead>\n",
       "  <tbody>\n",
       "    <tr>\n",
       "      <th>0</th>\n",
       "      <td>468</td>\n",
       "    </tr>\n",
       "    <tr>\n",
       "      <th>1</th>\n",
       "      <td>2268</td>\n",
       "    </tr>\n",
       "    <tr>\n",
       "      <th>2</th>\n",
       "      <td>838</td>\n",
       "    </tr>\n",
       "    <tr>\n",
       "      <th>3</th>\n",
       "      <td>670</td>\n",
       "    </tr>\n",
       "    <tr>\n",
       "      <th>4</th>\n",
       "      <td>251</td>\n",
       "    </tr>\n",
       "    <tr>\n",
       "      <th>5</th>\n",
       "      <td>662</td>\n",
       "    </tr>\n",
       "    <tr>\n",
       "      <th>6</th>\n",
       "      <td>340</td>\n",
       "    </tr>\n",
       "    <tr>\n",
       "      <th>7</th>\n",
       "      <td>408</td>\n",
       "    </tr>\n",
       "    <tr>\n",
       "      <th>8</th>\n",
       "      <td>1515</td>\n",
       "    </tr>\n",
       "    <tr>\n",
       "      <th>9</th>\n",
       "      <td>187</td>\n",
       "    </tr>\n",
       "    <tr>\n",
       "      <th>10</th>\n",
       "      <td>133</td>\n",
       "    </tr>\n",
       "    <tr>\n",
       "      <th>11</th>\n",
       "      <td>503</td>\n",
       "    </tr>\n",
       "    <tr>\n",
       "      <th>12</th>\n",
       "      <td>525</td>\n",
       "    </tr>\n",
       "    <tr>\n",
       "      <th>13</th>\n",
       "      <td>444</td>\n",
       "    </tr>\n",
       "    <tr>\n",
       "      <th>14</th>\n",
       "      <td>493</td>\n",
       "    </tr>\n",
       "    <tr>\n",
       "      <th>15</th>\n",
       "      <td>433</td>\n",
       "    </tr>\n",
       "    <tr>\n",
       "      <th>16</th>\n",
       "      <td>451</td>\n",
       "    </tr>\n",
       "  </tbody>\n",
       "</table>\n",
       "</div>"
      ],
      "text/plain": [
       "    2022\n",
       "0    468\n",
       "1   2268\n",
       "2    838\n",
       "3    670\n",
       "4    251\n",
       "5    662\n",
       "6    340\n",
       "7    408\n",
       "8   1515\n",
       "9    187\n",
       "10   133\n",
       "11   503\n",
       "12   525\n",
       "13   444\n",
       "14   493\n",
       "15   433\n",
       "16   451"
      ]
     },
     "execution_count": 212,
     "metadata": {},
     "output_type": "execute_result"
    }
   ],
   "source": [
    "# pandas\n",
    "import pandas as pd\n",
    "import matplotlib.pyplot as plt\n",
    "\n",
    "df4 = pd.read_excel('./한국전력공사_지역별 전기차 현황정보_20230331.xlsx',  header=0)\n",
    "df4= df4.transpose()\n",
    "\n",
    "df2 = pd.read_excel('./한국전력공사_지역별 전기차 충전기 현황정보_20221231.xlsx')\n",
    "\n",
    "#2022년 12월 전기차 충전기 현황\n",
    "df2=df2.iloc[:,[7]]\n",
    "df2.head(20)\n"
   ]
  },
  {
   "cell_type": "code",
   "execution_count": 213,
   "id": "3c2076dd",
   "metadata": {},
   "outputs": [
    {
     "data": {
      "text/plain": [
       "기준일    2022-12-31 00:00:00\n",
       "서울                   59327\n",
       "인천                   26242\n",
       "경기                   77648\n",
       "강원                   14012\n",
       "충북                   15140\n",
       "충남                   16611\n",
       "대전                   14476\n",
       "세종                    3034\n",
       "경북                   19154\n",
       "대구                   24161\n",
       "전북                   12727\n",
       "전남                   15387\n",
       "광주                    9096\n",
       "경남                   22740\n",
       "부산                   22063\n",
       "울산                    5061\n",
       "제주                   32976\n",
       "합계                  389855\n",
       "Name: 11, dtype: object"
      ]
     },
     "execution_count": 213,
     "metadata": {},
     "output_type": "execute_result"
    }
   ],
   "source": [
    "# 2022년 12월 전기차 보유 현황\n",
    "df4=df4[11]\n",
    "\n",
    "df4.head(20)\n"
   ]
  },
  {
   "cell_type": "code",
   "execution_count": 214,
   "id": "5a8b1f9b",
   "metadata": {},
   "outputs": [
    {
     "data": {
      "text/plain": [
       "<Axes: >"
      ]
     },
     "execution_count": 214,
     "metadata": {},
     "output_type": "execute_result"
    },
    {
     "data": {
      "image/png": "[encoded data removed]",
      "text/plain": [
       "<Figure size 640x480 with 1 Axes>"
      ]
     },
     "metadata": {},
     "output_type": "display_data"
    }
   ],
   "source": [
    "df2.plot()"
   ]
  },
  {
   "cell_type": "code",
   "execution_count": null,
   "id": "fc31e96c",
   "metadata": {},
   "outputs": [],
   "source": [
    "#error\n",
    "#df4.plt()"
   ]
  }
 ],
 "metadata": {
  "kernelspec": {
   "display_name": "Python 3 (ipykernel)",
   "language": "python",
   "name": "python3"
  },
  "language_info": {
   "codemirror_mode": {
    "name": "ipython",
    "version": 3
   },
   "file_extension": ".py",
   "mimetype": "text/x-python",
   "name": "python",
   "nbconvert_exporter": "python",
   "pygments_lexer": "ipython3",
   "version": "3.11.5"
  }
 },
 "nbformat": 4,
 "nbformat_minor": 5
}
